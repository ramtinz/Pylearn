%reset
import numpy as np
import matplotlib.pyplot as plt
c = 'red' # color
plt.rc('xtick', labelsize=7) # Fontsize
#fig1= plt.figure(figsize=(20,4), dpi=150)
fig1, axs1 = plt.subplots(1, 2)
fig2,axs2= plt.subplots(1, 2)
fig1.tight_layout()
fig2.tight_layout()
fig1.set_size_inches(w=12,h=5.5)
fig2.set_size_inches(w=12,h=5.5)
for i in range(2):
    x = np.linspace(0,10,1000)
    y = np.random.random(1000)
    axs1[i].scatter(x,y,c='r')

    x = np.linspace(0,10,1000)
    y = np.random.random(1000)
    axs2[i].scatter(x,y,c='b')

fig1.suptitle('A')
for ax in axs1.flat:
    ax.set(xlabel='x-label', ylabel='y-label')

fig2.suptitle('B')
for ax in axs2.flat:
    ax.set(xlabel='x-label', ylabel='y-label')
            
    #plt.close()
#     plt.show()
#fig1
fig1.savefig('/home/people/rammar/Desktop/faa1.png', dpi=300)
plt.show()
plt.close(fig1)


#fig2
fig2.savefig('/home/people/rammar/Desktop/faa2.png', dpi=300)
plt.show()
plt.close(fig2)
